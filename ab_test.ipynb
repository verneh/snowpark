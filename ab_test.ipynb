{
 "cells": [
  {
   "attachments": {},
   "cell_type": "markdown",
   "metadata": {},
   "source": [
    "# AB Test with Snowpark Integration."
   ]
  },
  {
   "cell_type": "code",
   "execution_count": 49,
   "metadata": {},
   "outputs": [],
   "source": [
    "# grab our dependencies.\n",
    "\n",
    "from snowflake.snowpark.session import Session\n",
    "from snowflake.snowpark.types import IntegerType, StringType, StructType, FloatType, StructField, DateType, Variant\n",
    "from snowflake.snowpark.functions import udf, sum, col, month, year, call_udf, lit\n",
    "from snowflake.snowpark.version import VERSION\n",
    "\n",
    "# instead of logging in through a json file.\n",
    "import snowflake.connector as sf\n",
    "from snowflake.connector.pandas_tools import write_pandas\n",
    "\n",
    "import json\n",
    "import pandas as pd\n",
    "import logging\n",
    "\n",
    "import sys\n",
    "import numpy as np\n",
    "\n",
    "logger = logging.getLogger(\"snowflake.snowpark.session\")\n",
    "logger.setLevel(logging.ERROR)\n"
   ]
  },
  {
   "cell_type": "code",
   "execution_count": 25,
   "metadata": {},
   "outputs": [
    {
     "name": "stdout",
     "output_type": "stream",
     "text": [
      "Initiating login request with your identity provider. A browser window should have opened for you to complete the login. If you can't see it, check existing browser windows, or your OS settings. Press CTRL+C to abort and try again...\n",
      "Going to open: https://login.microsoftonline.com/6181f579-1e5e-4186-b49b-f22a2c2f7a99/saml2?SAMLRequest=lZJRb9owFIX%2FSuQ9J3EcoGABVQrtxtR1tMAm9c0kN%2BDVsTNfh7T79TOhSN1DK%2B3Nuj7H%2Fu49d3z5XKngABal0ROSRJQEoHNTSL2bkM36JhySAJ3QhVBGw4S8AJLL6RhFpWqeNW6vH%2BB3A%2BgC%2F5BG3l1MSGM1NwIlci0qQO5yvsq%2B3XIWUV5b40xuFHlj%2BdghEME6T3i2FCg93t65msdx27ZRm0bG7mJGKY3pKPaqo%2BTTWf%2Fse3pHn8S0d9R7hZcvX9mupD6N4COs7UmE%2FMt6vQyX31drEmRn1JnR2FRgV2APMofNw%2B0JAD3BfHkdiTpE4%2BcHAl3IItSmLZV4gtxUdeP8s5E%2FxSUUsTI76TtfzCekfpJFYfo%2F71m9%2Fzy%2F32R0lv55ekwHwurru6tfme1vN7j5ulWHPRSYk%2BDHOVp2jHaB2MBCHwN1vkRZGtJ%2ByHrrhHE65CmLhmnySIK5D1Rq4TrnmbrjiCqZW4OmdEYrqaGjHCTDpOxfjMIE%2BhD2kuEg3PZG27BkTLCclRdiNIqPMTNyWh3egdjpfw9kHL%2B1v67hnU9mMV8aJfOX4MbYSrj3g0uipKvIIiw7KYdKSJUVhQVEH6BSpp1ZEM5vu7MNkHh6%2BvXffZ%2F%2BBQ%3D%3D&RelayState=57998 to authenticate...\n"
     ]
    }
   ],
   "source": [
    "# connect to snowflake through our connector. using single sign on.\n",
    "conn = sf.connect(\n",
    "            user = 'j.ongteco@xxxxxxxx',\n",
    "            role = 'xx',\n",
    "            account = 'xxxxxxx',\n",
    "            warehouse = 'xxxxxx',\n",
    "            database = \"xxxxxx\",\n",
    "            schema = 'crm',\n",
    "            authenticator = 'externalbrowser'\n",
    "        )"
   ]
  },
  {
   "attachments": {},
   "cell_type": "markdown",
   "metadata": {},
   "source": [
    "# python connector way"
   ]
  },
  {
   "cell_type": "code",
   "execution_count": 26,
   "metadata": {},
   "outputs": [],
   "source": [
    "# set variables in a similar manner.\n",
    "campaignid = '20227'\n",
    "country = 'NL'\n",
    "\n",
    "# actionids for stores.\n",
    "flex_s = '1000500'\n",
    "flex = '1000300'\n",
    "\n",
    "start_date = '2023-04-22'\n",
    "\n",
    "# write your main query and include the f before your query.\n",
    "query = f\"\"\"\n",
    "\n",
    "WITH s AS\n",
    "(\n",
    "         SELECT\n",
    "                  CASE\n",
    "                           WHEN _actionid = '{flex_s}' THEN 'FLEX_STORENAME'\n",
    "                           WHEN _actionid = '{flex}' THEN 'FLEX'\n",
    "                  END              AS s_actionid,\n",
    "                  Count(_actionid) AS s_sent\n",
    "         FROM     ods_eu.selligent.gen_flags\n",
    "         WHERE    _campaignid = '{campaignid}'\n",
    "         AND      listid = '{country}'\n",
    "         AND      _dt BETWEEN '{start_date}' AND DATEADD(day, 1, '{start_date}')\n",
    "         GROUP BY _actionid ), o AS\n",
    "(\n",
    "           SELECT\n",
    "                      CASE\n",
    "                                 WHEN _actionid = '{flex_s}' THEN 'FLEX_STORENAME'\n",
    "                                 WHEN _actionid = '{flex}' THEN 'FLEX'\n",
    "                      END                                      AS ord_actionid,\n",
    "                      count(DISTINCT customer_email_keymapid)  AS customers,\n",
    "                      count(order_status_upper)                AS orders,\n",
    "                      round((orders / customers), 2)           AS frequency,\n",
    "                      round(sum(royalty_sales_extax), 2)       AS revenue,\n",
    "                      round(sum(food_theoretical_cost), 2)     AS food,\n",
    "                      round(revenue - food, 2)                 AS sales_less_foodcosts,\n",
    "                      round(revenue / customers, 2)            AS customer_revenue,\n",
    "                      round(( revenue - food ) / customers, 2) AS customer_clv,\n",
    "                      round(customer_revenue / frequency, 2)   AS avg_ticket\n",
    "                      -- Round(stddev(royalty_sales_extax), 2)    AS std_dev_sales,\n",
    "                      -- Abs(customer_revenue - avg_ticket) / std_dev_sales AS z_score_sales\n",
    "           FROM       ods_eu.selligent.gen_users u\n",
    "           INNER JOIN ods_eu.selligent.gen_flags b\n",
    "           ON         u._userid = b._userid\n",
    "           AND        u.listid = b.listid\n",
    "           INNER JOIN ods_eu.selligent.gen_consent c\n",
    "           ON         u._userid = c._userid\n",
    "           AND        c.market = u.listid\n",
    "           INNER JOIN mdl_store.orders_pos.orders o\n",
    "           ON         u._email_address_keymapid = o.customer_email_keymapid\n",
    "           AND        u.listid = o.countrycode\n",
    "                      -- AND B._actionid = S._actionid\n",
    "           WHERE      u.listid = '{country}'\n",
    "           AND        b._campaignid = '{campaignid}'\n",
    "           AND        c._status = 1\n",
    "           AND        c._optin_id = 2\n",
    "           AND        o.order_status_pos_code = 4\n",
    "           AND        o.channel_group_upper = 'DIGITAL'\n",
    "           AND        o.order_date BETWEEN '{start_date}' AND DATEADD(day, 1, '{start_date}')\n",
    "           GROUP BY   ord_actionid--,  O.order_date is irrelevant if this was sent during the same day.\n",
    "\n",
    ")\n",
    "SELECT   ord_actionid AS id,\n",
    "         s_sent AS sent,\n",
    "         customers,\n",
    "         orders,\n",
    "         frequency as freq,\n",
    "         revenue,\n",
    "         customer_revenue,\n",
    "         customer_clv,\n",
    "         avg_ticket\n",
    "FROM     s,\n",
    "         o\n",
    "WHERE    s_actionid = ord_actionid\n",
    "GROUP BY id,\n",
    "         sent,\n",
    "         customers,\n",
    "         orders,\n",
    "         freq,\n",
    "         revenue,\n",
    "         customer_revenue,\n",
    "         customer_clv,\n",
    "         avg_ticket\n",
    "ORDER BY id\n",
    "\n",
    "\n",
    "\"\"\"\n",
    "cur = conn.cursor()\n",
    "cur.execute(query)\n",
    "ab = cur.fetch_pandas_all()\n"
   ]
  },
  {
   "cell_type": "code",
   "execution_count": 27,
   "metadata": {},
   "outputs": [
    {
     "data": {
      "text/html": [
       "<div>\n",
       "<style scoped>\n",
       "    .dataframe tbody tr th:only-of-type {\n",
       "        vertical-align: middle;\n",
       "    }\n",
       "\n",
       "    .dataframe tbody tr th {\n",
       "        vertical-align: top;\n",
       "    }\n",
       "\n",
       "    .dataframe thead th {\n",
       "        text-align: right;\n",
       "    }\n",
       "</style>\n",
       "<table border=\"1\" class=\"dataframe\">\n",
       "  <thead>\n",
       "    <tr style=\"text-align: right;\">\n",
       "      <th></th>\n",
       "      <th>ID</th>\n",
       "      <th>SENT</th>\n",
       "      <th>CUSTOMERS</th>\n",
       "      <th>ORDERS</th>\n",
       "      <th>FREQ</th>\n",
       "      <th>REVENUE</th>\n",
       "      <th>CUSTOMER_REVENUE</th>\n",
       "      <th>CUSTOMER_CLV</th>\n",
       "      <th>AVG_TICKET</th>\n",
       "    </tr>\n",
       "  </thead>\n",
       "  <tbody>\n",
       "    <tr>\n",
       "      <th>0</th>\n",
       "      <td>FLEX</td>\n",
       "      <td>56283</td>\n",
       "      <td>1712</td>\n",
       "      <td>3000</td>\n",
       "      <td>1.75</td>\n",
       "      <td>70369.99</td>\n",
       "      <td>41.10</td>\n",
       "      <td>29.56</td>\n",
       "      <td>23.49</td>\n",
       "    </tr>\n",
       "    <tr>\n",
       "      <th>1</th>\n",
       "      <td>FLEX_STORENAME</td>\n",
       "      <td>56887</td>\n",
       "      <td>1704</td>\n",
       "      <td>3120</td>\n",
       "      <td>1.83</td>\n",
       "      <td>71876.43</td>\n",
       "      <td>42.18</td>\n",
       "      <td>30.17</td>\n",
       "      <td>23.05</td>\n",
       "    </tr>\n",
       "  </tbody>\n",
       "</table>\n",
       "</div>"
      ],
      "text/plain": [
       "               ID   SENT  CUSTOMERS  ORDERS  FREQ   REVENUE CUSTOMER_REVENUE  \\\n",
       "0            FLEX  56283       1712    3000  1.75  70369.99            41.10   \n",
       "1  FLEX_STORENAME  56887       1704    3120  1.83  71876.43            42.18   \n",
       "\n",
       "  CUSTOMER_CLV AVG_TICKET  \n",
       "0        29.56      23.49  \n",
       "1        30.17      23.05  "
      ]
     },
     "execution_count": 27,
     "metadata": {},
     "output_type": "execute_result"
    }
   ],
   "source": [
    "ab"
   ]
  },
  {
   "cell_type": "code",
   "execution_count": 28,
   "metadata": {},
   "outputs": [
    {
     "name": "stdout",
     "output_type": "stream",
     "text": [
      "<class 'pandas.core.frame.DataFrame'>\n"
     ]
    }
   ],
   "source": [
    "print(type(ab))"
   ]
  },
  {
   "attachments": {},
   "cell_type": "markdown",
   "metadata": {},
   "source": [
    "# Convert to Snowpark Dataframe"
   ]
  },
  {
   "cell_type": "code",
   "execution_count": 29,
   "metadata": {},
   "outputs": [],
   "source": [
    "# this saves us a table inside snowflake called ab campaign 20227\n",
    "success, nchunks, nrows, _ = write_pandas(conn, ab, \"AB_CAMPAIGN_20227\", auto_create_table=True)"
   ]
  },
  {
   "attachments": {},
   "cell_type": "markdown",
   "metadata": {},
   "source": [
    "What I learned is that its better to build a table outside of the notebook and then call the table through the notebook (through Session.table)"
   ]
  },
  {
   "cell_type": "code",
   "execution_count": 43,
   "metadata": {},
   "outputs": [],
   "source": [
    "# create a session object from an existing python connector connection. \n",
    "# https://docs.snowflake.com/developer-guide/snowpark/reference/python/api/snowflake.snowpark.Session.html#snowflake.snowpark.Session\n",
    "session = Session.builder.configs({\"connection\":conn}).create()"
   ]
  },
  {
   "cell_type": "code",
   "execution_count": 45,
   "metadata": {},
   "outputs": [
    {
     "data": {
      "text/plain": [
       "<snowflake.snowpark.table.Table at 0x18144d28df0>"
      ]
     },
     "execution_count": 45,
     "metadata": {},
     "output_type": "execute_result"
    }
   ],
   "source": [
    "snowpark_df = session.table(\"AB_CAMPAIGN_20227\")\n",
    "snowpark_df # our snowflake dataframe."
   ]
  },
  {
   "cell_type": "code",
   "execution_count": 53,
   "metadata": {},
   "outputs": [
    {
     "name": "stdout",
     "output_type": "stream",
     "text": [
      "Size in mb for Pandas DataFrame in memory: 1444\n",
      "Size in mb for Snowpark DataFrame in memory: 48\n"
     ]
    }
   ],
   "source": [
    "# optimized!!!! \n",
    "print(f\"Size in mb for Pandas DataFrame in memory: {np.round(sys.getsizeof(ab))}\") \n",
    "print(f\"Size in mb for Snowpark DataFrame in memory: {np.round(sys.getsizeof(snowpark_df))}\") "
   ]
  },
  {
   "cell_type": "code",
   "execution_count": 50,
   "metadata": {},
   "outputs": [
    {
     "name": "stdout",
     "output_type": "stream",
     "text": [
      "------------------------------------------------------------------------------------------------------------------------------\n",
      "|\"ID\"            |\"SENT\"  |\"CUSTOMERS\"  |\"ORDERS\"  |\"FREQ\"  |\"REVENUE\"  |\"CUSTOMER_REVENUE\"  |\"CUSTOMER_CLV\"  |\"AVG_TICKET\"  |\n",
      "------------------------------------------------------------------------------------------------------------------------------\n",
      "|FLEX            |56283   |1712         |3000      |1.75    |70369.99   |41.10               |29.56           |23.49         |\n",
      "|FLEX_STORENAME  |56887   |1704         |3120      |1.83    |71876.43   |42.18               |30.17           |23.05         |\n",
      "------------------------------------------------------------------------------------------------------------------------------\n",
      "\n"
     ]
    }
   ],
   "source": [
    "snowpark_df.show()"
   ]
  },
  {
   "cell_type": "code",
   "execution_count": 56,
   "metadata": {},
   "outputs": [],
   "source": [
    "# https://docs.snowflake.com/en/developer-guide/snowpark/python/working-with-dataframes\n",
    "flex = session.table(\"AB_CAMPAIGN_20227\").filter(col(\"id\") == 'FLEX')\n",
    "flex_storename = session.table(\"AB_CAMPAIGN_20227\").filter(col(\"id\") == 'FLEX_STORENAME')"
   ]
  },
  {
   "cell_type": "code",
   "execution_count": 57,
   "metadata": {},
   "outputs": [
    {
     "name": "stdout",
     "output_type": "stream",
     "text": [
      "------------------------------------------------------------------------------------------------------------------------------\n",
      "|\"ID\"            |\"SENT\"  |\"CUSTOMERS\"  |\"ORDERS\"  |\"FREQ\"  |\"REVENUE\"  |\"CUSTOMER_REVENUE\"  |\"CUSTOMER_CLV\"  |\"AVG_TICKET\"  |\n",
      "------------------------------------------------------------------------------------------------------------------------------\n",
      "|FLEX_STORENAME  |56887   |1704         |3120      |1.83    |71876.43   |42.18               |30.17           |23.05         |\n",
      "------------------------------------------------------------------------------------------------------------------------------\n",
      "\n"
     ]
    }
   ],
   "source": [
    "flex_storename.show()"
   ]
  },
  {
   "cell_type": "code",
   "execution_count": null,
   "metadata": {},
   "outputs": [],
   "source": [
    "# to bring it back to pandas.\n",
    "\n",
    "f = flex.select(col(\"ORDERS\")).to_pandas()\n",
    "f_s = flex_storename.select(col(\"ORDERS\")).to_pandas()"
   ]
  },
  {
   "attachments": {},
   "cell_type": "markdown",
   "metadata": {},
   "source": [
    "So i think the idea here is to transform the data in python. Save it as a table in snowflake. Then run the model through a stored procedure."
   ]
  },
  {
   "attachments": {},
   "cell_type": "markdown",
   "metadata": {},
   "source": [
    "# Voila!"
   ]
  },
  {
   "attachments": {},
   "cell_type": "markdown",
   "metadata": {},
   "source": []
  }
 ],
 "metadata": {
  "kernelspec": {
   "display_name": "Python 3",
   "language": "python",
   "name": "python3"
  },
  "language_info": {
   "codemirror_mode": {
    "name": "ipython",
    "version": 3
   },
   "file_extension": ".py",
   "mimetype": "text/x-python",
   "name": "python",
   "nbconvert_exporter": "python",
   "pygments_lexer": "ipython3",
   "version": "3.8.16"
  },
  "orig_nbformat": 4
 },
 "nbformat": 4,
 "nbformat_minor": 2
}
